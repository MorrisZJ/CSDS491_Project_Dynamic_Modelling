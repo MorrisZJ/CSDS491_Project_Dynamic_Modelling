{
 "cells": [
  {
   "attachments": {},
   "cell_type": "markdown",
   "metadata": {},
   "source": [
    "### Toy model of bayes inference on burgler problem\n",
    "\n",
    "Please check the code in \"graph_to_bayes.py\" for reference.\n",
    "In order to use package \"pgmpy\", please check your python kernel."
   ]
  },
  {
   "cell_type": "code",
   "execution_count": 2,
   "metadata": {},
   "outputs": [
    {
     "name": "stdout",
     "output_type": "stream",
     "text": [
      "Edge list: [(6, 11), (6, 1), (6, 5), (6, 7), (11, 16), (11, 10), (11, 12), (1, 0), (1, 2), (5, 10), (5, 0), (7, 12), (7, 2), (7, 8), (16, 21), (16, 15), (16, 17), (10, 15), (12, 17), (12, 13), (2, 3), (8, 13), (8, 3), (8, 9), (21, 20), (21, 22), (15, 20), (17, 22), (17, 18), (13, 18), (13, 14), (3, 4), (9, 14), (9, 4), (22, 23), (18, 23), (18, 19), (14, 19), (23, 24), (19, 24)]\n",
      "Bayes model: BayesianNetwork with 25 nodes and 40 edges\n",
      "CPD appending order: ['6', '11', '1', '5', '7', '16', '10', '12', '0', '2', '8', '21', '15', '17', '13', '3', '9', '20', '22', '18', '14', '4', '23', '19', '24']\n",
      "BayesianNetwork with 25 nodes and 40 edges\n",
      "+----------+----------+\n",
      "| 5        |   phi(5) |\n",
      "+==========+==========+\n",
      "| 5(True)  |   0.8334 |\n",
      "+----------+----------+\n",
      "| 5(False) |   0.1666 |\n",
      "+----------+----------+\n"
     ]
    }
   ],
   "source": [
    "from pgmpy.inference import VariableElimination\n",
    "from graph_to_bayes import bayes_graph_structure_setup\n",
    "\n",
    "'''\n",
    "The transition_model is the adjacency matrix representation of the graph.\n",
    "If the input of transition_model is None, a random graph will be generated based on size and seed.\n",
    "'''\n",
    "model, tran_model = bayes_graph_structure_setup(size=5, init_location=6, seed=4, transition_model=None)\n",
    "print(model)\n",
    "infer = VariableElimination(model)\n",
    "inference = infer.query(['5'], evidence={'6': True})\n",
    "print(inference)"
   ]
  }
 ],
 "metadata": {
  "kernelspec": {
   "display_name": "Python 3",
   "language": "python",
   "name": "python3"
  },
  "language_info": {
   "codemirror_mode": {
    "name": "ipython",
    "version": 3
   },
   "file_extension": ".py",
   "mimetype": "text/x-python",
   "name": "python",
   "nbconvert_exporter": "python",
   "pygments_lexer": "ipython3",
   "version": "3.9.7"
  },
  "orig_nbformat": 4
 },
 "nbformat": 4,
 "nbformat_minor": 2
}
